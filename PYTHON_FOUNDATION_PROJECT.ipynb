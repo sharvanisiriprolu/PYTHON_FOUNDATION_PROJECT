{
  "nbformat": 4,
  "nbformat_minor": 0,
  "metadata": {
    "colab": {
      "provenance": [],
      "authorship_tag": "ABX9TyO4CzQpHlnxuh9Zlg2tb5Pv",
      "include_colab_link": true
    },
    "kernelspec": {
      "name": "python3",
      "display_name": "Python 3"
    },
    "language_info": {
      "name": "python"
    }
  },
  "cells": [
    {
      "cell_type": "markdown",
      "metadata": {
        "id": "view-in-github",
        "colab_type": "text"
      },
      "source": [
        "<a href=\"https://colab.research.google.com/github/sharvanisiriprolu/PYTHON_FOUNDATION_PROJECT/blob/main/PYTHON_FOUNDATION_PROJECT.ipynb\" target=\"_parent\"><img src=\"https://colab.research.google.com/assets/colab-badge.svg\" alt=\"Open In Colab\"/></a>"
      ]
    },
    {
      "cell_type": "markdown",
      "source": [
        "1Q. You are working in a bank, and you have been given two lists of the employees who worked in 2021. Employees’ names in list 1 are Ramesh, Suresh, Mahesh, Ali, Jacob, and Saritha. List 2 contains the names of Ali, Mukesh, Mahesh, Jacob, Sai, and Sarita. Please write a program that helps to identify people who are common in both lists. Please do not use any in-built function."
      ],
      "metadata": {
        "id": "O2_Pn-L-dBLr"
      }
    },
    {
      "cell_type": "code",
      "source": [
        "list1=['Ramesh', 'Suresh', 'Mahesh', 'Ali', 'Jacob', 'Saritha']\n",
        "list2=['Ali', 'Mukesh', 'Mahesh', 'Jacob', 'Sai', 'Sarita']\n",
        "common_names=[]\n",
        "\n",
        "for i in list1:\n",
        "  for j in list2:\n",
        "    if i==j:\n",
        "      common_names.append(i)\n",
        "print(common_names)"
      ],
      "metadata": {
        "colab": {
          "base_uri": "https://localhost:8080/"
        },
        "id": "f7kYbCe1QhPn",
        "outputId": "01435090-fc44-4312-c138-3c5b33a3b9da"
      },
      "execution_count": null,
      "outputs": [
        {
          "output_type": "stream",
          "name": "stdout",
          "text": [
            "['Mahesh', 'Ali', 'Jacob']\n"
          ]
        }
      ]
    },
    {
      "cell_type": "markdown",
      "source": [
        "2Q. While entering data, someone entered a few names as a common string “Ramesh Suresh Mohit”. Please write a program which separates all the names and converts them into a list. Once converted into a list, please write a program that adds their age.\n",
        "\n",
        "\n",
        "\n",
        "Ramesh:  25\n",
        "\n",
        "Suresh: 22\n",
        "\n",
        "Mohit: 26\n",
        "\n"
      ],
      "metadata": {
        "id": "nhmKIvhndLgl"
      }
    },
    {
      "cell_type": "code",
      "source": [
        "names='Ramesh Suresh Mohit'\n",
        "list=names.split()\n",
        "print(f'list= {list}')\n",
        "\n",
        "ages_names={'Ramesh':25, 'Suresh':22, 'Mohit':26}\n",
        "sum_age=0\n",
        "\n",
        "for n in list:\n",
        "  if n in ages_names:\n",
        "    sum_age += ages_names[n]\n",
        "\n",
        "print(f'sum of ages of given persons: {sum_age}')"
      ],
      "metadata": {
        "colab": {
          "base_uri": "https://localhost:8080/"
        },
        "id": "yhSBKAm7Wp1Z",
        "outputId": "1c034f13-38d4-4b83-b568-9bfd0064c0c0"
      },
      "execution_count": null,
      "outputs": [
        {
          "output_type": "stream",
          "name": "stdout",
          "text": [
            "list= ['Ramesh', 'Suresh', 'Mohit']\n",
            "sum of ages of given persons: 73\n"
          ]
        }
      ]
    },
    {
      "cell_type": "markdown",
      "source": [
        "3Q. You are working in a medical store. A patient came to your medical store and asked to buy 2 strips of paracetamol, 3 strips of azithromycin, and 5 strips of Vitamin C. One strip of paracetamol costs Rs 35, one strip of azithromycin costs Rs 49, and one strip of vitamin c costs Rs. 33. Patient gave you Rs 2000. Please tell us what is the total cost of each medicine, the total cost of all medicine, and how much money you refunded to the patient.  \n",
        "\n"
      ],
      "metadata": {
        "id": "PXJvUeVOdSC8"
      }
    },
    {
      "cell_type": "code",
      "source": [
        "Paracetamol=2*35\n",
        "Azithromycin=3*49\n",
        "Vitamin_C=5*33\n",
        "Total_Cost=Paracetamol+Azithromycin+Vitamin_C\n",
        "Amount_Refunded=2000-(Total_Cost)\n",
        "\n",
        "print(f'Total cost of Paracetamol : {Paracetamol}')\n",
        "print(f'Total cost of Azithromycin : {Azithromycin}')\n",
        "print(f'Total cost of Vitamin_C : {Vitamin_C}\\n')\n",
        "\n",
        "print(f'Total cost of all medicine : {Total_Cost}\\n')\n",
        "\n",
        "print(f'Money refunded to the patient : {Amount_Refunded}')\n",
        "\n"
      ],
      "metadata": {
        "colab": {
          "base_uri": "https://localhost:8080/"
        },
        "id": "l8cwDQO1k4PX",
        "outputId": "16c29271-4335-4f75-a77e-4a00ae4fd981"
      },
      "execution_count": null,
      "outputs": [
        {
          "output_type": "stream",
          "name": "stdout",
          "text": [
            "Total cost of Paracetamol : 70\n",
            "Total cost of Azithromycin : 147\n",
            "Total cost of Vitamin_C : 165\n",
            "\n",
            "Total cost of all medicine : 382\n",
            "\n",
            "Money refunded to the patient : 1618\n"
          ]
        }
      ]
    },
    {
      "cell_type": "markdown",
      "source": [
        "4Q. Accept a sentence as input and find the number of vowels in it. Assume that the sentence has no punctuation marks. For example, I am learning python contains 6 vowels. This function should be applicable for all other different sentences.\n",
        "\n"
      ],
      "metadata": {
        "id": "zfZac9cKdX-E"
      }
    },
    {
      "cell_type": "code",
      "source": [
        "sentence=input()\n",
        "vowels=['a', 'e', 'i', 'o', 'u', 'A', 'E', 'I', 'O', 'U']\n",
        "\n",
        "print(' ')\n",
        "print(f'Enter a sentence : {sentence}')\n",
        "\n",
        "count_of_vowel=0\n",
        "\n",
        "for word in sentence:\n",
        "  if word in vowels:\n",
        "    count_of_vowel += 1\n",
        "print(f'Vowel count in the sentence : {count_of_vowel}')"
      ],
      "metadata": {
        "colab": {
          "base_uri": "https://localhost:8080/"
        },
        "id": "89gqMUfIl_km",
        "outputId": "2616962f-e0ed-498f-c861-b2fb3f89bd8b"
      },
      "execution_count": null,
      "outputs": [
        {
          "output_type": "stream",
          "name": "stdout",
          "text": [
            "Hai, Welcome to PYTHON_FOUNDATION_PROJECT Session\n",
            " \n",
            "Enter a sentence : Hai, Welcome to PYTHON_FOUNDATION_PROJECT Session\n",
            "Vowel count in the sentence : 17\n"
          ]
        }
      ]
    },
    {
      "cell_type": "markdown",
      "source": [
        "5Q. You have been appointed by the election commission to create a website. Your first task is to work on a program which tells candidates if they are eligible for voting or not. If they are eligible, your output should be ‘Congrats! You are eligible’; otherwise, it should tell that you have to return after X number of years. The eligibility criteria for voting is 18 years.\n",
        "For example, If someone is 18 or above, your output should be ‘Congrats! You are eligible’. If someone’s age is 15 years, it should print output as ‘return after 3 years’."
      ],
      "metadata": {
        "id": "xVB0q3lceJpr"
      }
    },
    {
      "cell_type": "code",
      "source": [
        "age=int(input())\n",
        "\n",
        "if age>=18:\n",
        "  print('Congrats! You are eligible')\n",
        "else:\n",
        "  print(f'Return after {18-age} years')"
      ],
      "metadata": {
        "colab": {
          "base_uri": "https://localhost:8080/"
        },
        "id": "VpW9w5J1qlZW",
        "outputId": "e1bc2503-a532-48ca-eed0-a1cfd24950b9"
      },
      "execution_count": null,
      "outputs": [
        {
          "output_type": "stream",
          "name": "stdout",
          "text": [
            "13\n",
            "Return after 5 years\n"
          ]
        }
      ]
    },
    {
      "cell_type": "markdown",
      "source": [
        "6Q. Given a list of integers, find the cumulative sum of the elements of the list and store them in another list.\n",
        "\n",
        "\n",
        "\n",
        "A = [1, 2, 3, 4, 5]\n",
        "\n",
        "\n",
        "\n",
        "Output:\n",
        "\n",
        "[1, 3, 6, 10, 15]"
      ],
      "metadata": {
        "id": "PZU_1UodeNS8"
      }
    },
    {
      "cell_type": "code",
      "source": [
        "A = [1, 2, 3, 4, 5]\n",
        "cumulative_sum=[]\n",
        "sum=0\n",
        "\n",
        "for i in A:\n",
        "  sum += i\n",
        "  cumulative_sum.append(sum)\n",
        "print(cumulative_sum)"
      ],
      "metadata": {
        "colab": {
          "base_uri": "https://localhost:8080/"
        },
        "id": "tkpNiGiQ0bh7",
        "outputId": "ceb2e8c1-780f-45a8-9c99-a680bfeace1b"
      },
      "execution_count": null,
      "outputs": [
        {
          "output_type": "stream",
          "name": "stdout",
          "text": [
            "[1, 3, 6, 10, 15]\n"
          ]
        }
      ]
    },
    {
      "cell_type": "markdown",
      "source": [
        "7Q. WAP to encode a message entered by user as per below conditions:\n",
        "\n",
        "\n",
        "\n",
        "for every word in the sentence,\n",
        "\n",
        "1. If the word starts with a vowel, encode it as the first and last letter of the word.\n",
        "\n",
        "2. If the word starts with a consonant, remove all vowels from it.\n",
        "\n",
        "\n",
        "\n",
        "Ensure the case insensitive comparisons/checks are performed.\n",
        "\n",
        "\n",
        "\n",
        "Please enter your text:The quick brown fox used to sleep inside this box\n",
        "\n",
        "Encoded Msg: Th qck brwn fx ud t slp ie ths bx"
      ],
      "metadata": {
        "id": "8clBp241eg41"
      }
    },
    {
      "cell_type": "code",
      "source": [
        "def encode_sentence(sentence):\n",
        "    vowels = \"aeiouAEIOU\"\n",
        "    words = sentence.split()\n",
        "    encoded_words = []\n",
        "\n",
        "    for word in words:\n",
        "        if word[0] in vowels:\n",
        "            encoded_words.append(word[0] + word[-1])\n",
        "        else:\n",
        "            encoded_word = ''.join([char for char in word if char.lower() not in vowels])\n",
        "            encoded_words.append(encoded_word)\n",
        "\n",
        "    encoded_sentence = ' '.join(encoded_words)\n",
        "    return encoded_sentence\n",
        "\n",
        "user_input = input('Please enter your text: ')\n",
        "encoded_sentence = encode_sentence(user_input)\n",
        "print(f'Encoded Sentence: {encoded_sentence}')"
      ],
      "metadata": {
        "colab": {
          "base_uri": "https://localhost:8080/"
        },
        "id": "yaQrZjrV0QzU",
        "outputId": "aa5f4ac7-84ab-4421-87d7-930e7ef9ac18"
      },
      "execution_count": null,
      "outputs": [
        {
          "output_type": "stream",
          "name": "stdout",
          "text": [
            "Please enter your text: The quick brown fox used to sleep inside this box\n",
            "Encoded Sentence: Th qck brwn fx ud t slp ie ths bx\n"
          ]
        }
      ]
    },
    {
      "cell_type": "markdown",
      "source": [
        "8Q. Write a program to implement run length encoding of a string\n",
        "\n",
        "\n",
        "\n",
        "RLE:Consecutive repetition of a character has to be replaced with the count of occurrences and the character.\n",
        "\n",
        "\n",
        "\n",
        "Enter your string :aabbbccdddae\n",
        "\n",
        "Encoded: 2a3b2c3d1a1e"
      ],
      "metadata": {
        "id": "rhfg0vk8eplL"
      }
    },
    {
      "cell_type": "code",
      "source": [
        "s=input('Enter your string: ')\n",
        "previous=s[0]\n",
        "output=''\n",
        "count=1\n",
        "i=1\n",
        "while i<len(s):\n",
        "        if s[i]==previous:\n",
        "              count=count+1\n",
        "        else:\n",
        "                output=output+str(count)+previous\n",
        "                previous=s[i]\n",
        "                count=1\n",
        "        if i==len(s)-1:\n",
        "               output=output+str(count)+previous\n",
        "        i=i+1\n",
        "print(f'Encoded: {output}')"
      ],
      "metadata": {
        "colab": {
          "base_uri": "https://localhost:8080/"
        },
        "id": "EJt3dPx3GYwq",
        "outputId": "cb1a44f3-be5a-4403-a3ff-33b4ab613081"
      },
      "execution_count": null,
      "outputs": [
        {
          "output_type": "stream",
          "name": "stdout",
          "text": [
            "Enter your string: aabbbccdddae\n",
            "Encoded: 2a3b2c3d1a1e\n"
          ]
        }
      ]
    }
  ]
}